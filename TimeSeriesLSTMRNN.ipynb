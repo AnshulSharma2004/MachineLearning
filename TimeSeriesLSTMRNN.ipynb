{
 "cells": [
  {
   "cell_type": "code",
   "execution_count": 2,
   "metadata": {},
   "outputs": [],
   "source": [
    "import numpy as np\n",
    "from tensorflow.keras.models import Sequential\n",
    "from tensorflow.keras.layers import LSTM, Dense, Flatten"
   ]
  },
  {
   "cell_type": "code",
   "execution_count": 3,
   "metadata": {},
   "outputs": [],
   "source": [
    "def prepareData(timeseries_data, n_features):\n",
    "    X, y = [], []\n",
    "    for i in range(len(timeseries_data)-n_features):\n",
    "        X.append(timeseries_data[i:i+n_features])\n",
    "        y.append(timeseries_data[i+n_features])\n",
    "    return X, y"
   ]
  },
  {
   "cell_type": "code",
   "execution_count": 5,
   "metadata": {},
   "outputs": [
    {
     "name": "stdout",
     "output_type": "stream",
     "text": [
      "[[110, 125, 133], [125, 133, 146], [133, 146, 158], [146, 158, 172], [158, 172, 187], [172, 187, 196]]\n",
      "[146, 158, 172, 187, 196, 210]\n"
     ]
    }
   ],
   "source": [
    "timeseries_data = [110,125,133,146,158,172,187,196,210]\n",
    "n_features = 3\n",
    "X, y = prepareData(timeseries_data, n_features)\n",
    "print(X)\n",
    "print(y)"
   ]
  },
  {
   "cell_type": "code",
   "execution_count": 9,
   "metadata": {},
   "outputs": [],
   "source": [
    "X = np.array(X)\n",
    "X = X.reshape((X.shape[0], X.shape[1],1))\n",
    "X.shape\n",
    "y = np.array(y)"
   ]
  },
  {
   "cell_type": "code",
   "execution_count": 10,
   "metadata": {},
   "outputs": [
    {
     "data": {
      "text/plain": [
       "<keras.src.callbacks.History at 0x1d7e1c112d0>"
      ]
     },
     "execution_count": 10,
     "metadata": {},
     "output_type": "execute_result"
    }
   ],
   "source": [
    "model = Sequential()\n",
    "model.add(LSTM(50,activation='relu', return_sequences=True, input_shape=(3, 1)))\n",
    "model.add(LSTM(50, activation='relu'))\n",
    "model.add(Dense(1))\n",
    "model.compile(optimizer='adam', loss='mse')\n",
    "model.fit(X, y, epochs=200, verbose=0)"
   ]
  },
  {
   "cell_type": "code",
   "execution_count": 20,
   "metadata": {},
   "outputs": [
    {
     "name": "stdout",
     "output_type": "stream",
     "text": [
      "1/1 [==============================] - 0s 62ms/step\n",
      "0 day output [[225.5494]]\n",
      "1/1 [==============================] - 0s 254ms/step\n",
      "1 day output [[238.5047]]\n",
      "1/1 [==============================] - 0s 20ms/step\n",
      "2 day output [[254.2809]]\n",
      "1/1 [==============================] - 0s 23ms/step\n",
      "3 day output [[270.2689]]\n",
      "1/1 [==============================] - 0s 23ms/step\n",
      "4 day output [[286.25174]]\n",
      "1/1 [==============================] - 0s 24ms/step\n",
      "5 day output [[303.82297]]\n",
      "1/1 [==============================] - 0s 25ms/step\n",
      "6 day output [[321.81967]]\n",
      "1/1 [==============================] - 0s 25ms/step\n",
      "7 day output [[340.61395]]\n",
      "1/1 [==============================] - 0s 22ms/step\n",
      "8 day output [[360.58795]]\n",
      "1/1 [==============================] - 0s 23ms/step\n",
      "9 day output [[381.36438]]\n"
     ]
    }
   ],
   "source": [
    "x_input = np.array([187,196,210])\n",
    "temp_input = list(x_input)\n",
    "output = []\n",
    "i = 0\n",
    "while i < 10:\n",
    "    x_input = np.array(temp_input[i:])\n",
    "    temp = x_input\n",
    "    temp = temp.reshape((1,3,1))\n",
    "    y_pred = model.predict(temp)\n",
    "    output.append(y_pred[0][0])\n",
    "    print(\"{} day output {}\".format(i, y_pred))\n",
    "    temp_input.append(y_pred[0][0])\n",
    "    \n",
    "    i += 1\n"
   ]
  },
  {
   "cell_type": "code",
   "execution_count": null,
   "metadata": {},
   "outputs": [],
   "source": []
  }
 ],
 "metadata": {
  "kernelspec": {
   "display_name": "base",
   "language": "python",
   "name": "python3"
  },
  "language_info": {
   "codemirror_mode": {
    "name": "ipython",
    "version": 3
   },
   "file_extension": ".py",
   "mimetype": "text/x-python",
   "name": "python",
   "nbconvert_exporter": "python",
   "pygments_lexer": "ipython3",
   "version": "3.11.5"
  }
 },
 "nbformat": 4,
 "nbformat_minor": 2
}
